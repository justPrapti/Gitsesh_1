{
 "cells": [
  {
   "cell_type": "code",
   "execution_count": 19,
   "id": "ce11e4e1",
   "metadata": {},
   "outputs": [
    {
     "name": "stdout",
     "output_type": "stream",
     "text": [
      "None\n"
     ]
    }
   ],
   "source": [
    "import numpy as np\n",
    "#1. Seed the Range for reproducibility.\n",
    "import random\n",
    "y=np.random.seed(34)\n",
    "print(y)"
   ]
  },
  {
   "cell_type": "code",
   "execution_count": 20,
   "id": "bf1b13d1",
   "metadata": {},
   "outputs": [
    {
     "name": "stdout",
     "output_type": "stream",
     "text": [
      "[[ 2 11 10  5  4  6]\n",
      " [12 11 15 19  7  6]\n",
      " [ 1  6 20 20  9  9]\n",
      " [16 11 14  9 11 14]\n",
      " [ 5  3  6  3 11 12]\n",
      " [ 3 10  7  3  7 11]]\n"
     ]
    }
   ],
   "source": [
    "#2. Generate a random 6×6 integer matrix between 1–20.\n",
    "m=np.random.randint(1,21,(6,6))\n",
    "print(m)"
   ]
  },
  {
   "cell_type": "code",
   "execution_count": 21,
   "id": "d3431a04",
   "metadata": {},
   "outputs": [
    {
     "name": "stdout",
     "output_type": "stream",
     "text": [
      "[[-4.5         2.33333333 -2.         -4.83333333 -4.16666667 -3.66666667]\n",
      " [ 5.5         2.33333333  3.          9.16666667 -1.16666667 -3.66666667]\n",
      " [-5.5        -2.66666667  8.         10.16666667  0.83333333 -0.66666667]\n",
      " [ 9.5         2.33333333  2.         -0.83333333  2.83333333  4.33333333]\n",
      " [-1.5        -5.66666667 -6.         -6.83333333  2.83333333  2.33333333]\n",
      " [-3.5         1.33333333 -5.         -6.83333333 -1.16666667  1.33333333]]\n"
     ]
    }
   ],
   "source": [
    "#3. Center the matrix by subtracting the column means (use broadcasting).\n",
    "col_means=np.mean(m,axis=0)\n",
    "c_matrix=m-col_means\n",
    "print(c_matrix)"
   ]
  },
  {
   "cell_type": "code",
   "execution_count": 22,
   "id": "d1c82445",
   "metadata": {},
   "outputs": [
    {
     "name": "stdout",
     "output_type": "stream",
     "text": [
      "[[False  True False False False False  True  True  True  True False False\n",
      "  False False  True  True False False  True  True  True False  True  True\n",
      "  False False False False  True  True False False False False False False]]\n"
     ]
    }
   ],
   "source": [
    "#4. Select all values in the centered matrix whose absolute value exceeds 1.5 (use Boolean indexing).\n",
    "n=c_matrix>1.5\n",
    "n=n.reshape(1,36)\n",
    "print(n)"
   ]
  },
  {
   "cell_type": "code",
   "execution_count": 23,
   "id": "968ec1d7",
   "metadata": {},
   "outputs": [
    {
     "name": "stdout",
     "output_type": "stream",
     "text": [
      "329\n",
      "9.13888888888889\n",
      "4.950604776622852\n",
      "1\n",
      "20\n"
     ]
    }
   ],
   "source": [
    "#5. Compute and print: - Total sum, mean, std, min, max of the selected values (use aggregations).\n",
    "a=np.sum(m)\n",
    "print(a)\n",
    "b=np.mean(m)\n",
    "print(b)\n",
    "c=np.std(m)\n",
    "print(c)\n",
    "d=np.min(m)\n",
    "print(d)\n",
    "e=np.max(m)\n",
    "print(e)"
   ]
  },
  {
   "cell_type": "code",
   "execution_count": null,
   "id": "cae69c32",
   "metadata": {},
   "outputs": [
    {
     "name": "stdout",
     "output_type": "stream",
     "text": [
      "[[ 1  6 20 20  9  9]\n",
      " [ 5  3  6  3 11 12]\n",
      " [ 3 10  7  3  7 11]]\n"
     ]
    },
    {
     "ename": "",
     "evalue": "",
     "output_type": "error",
     "traceback": [
      "\u001b[1;31mThe Kernel crashed while executing code in the current cell or a previous cell. \n",
      "\u001b[1;31mPlease review the code in the cell(s) to identify a possible cause of the failure. \n",
      "\u001b[1;31mClick <a href='https://aka.ms/vscodeJupyterKernelCrash'>here</a> for more info. \n",
      "\u001b[1;31mView Jupyter <a href='command:jupyter.viewOutput'>log</a> for further details."
     ]
    }
   ],
   "source": [
    "#6. Shuffle the rows of the original matrix (use shuffle) and display the first 3 rows. (# If you don't know about this then refer numpy documentation youll learn something new: \n",
    "np.random.shuffle(m)\n",
    "print(m[:3])"
   ]
  }
 ],
 "metadata": {
  "kernelspec": {
   "display_name": "Python 3",
   "language": "python",
   "name": "python3"
  },
  "language_info": {
   "codemirror_mode": {
    "name": "ipython",
    "version": 3
   },
   "file_extension": ".py",
   "mimetype": "text/x-python",
   "name": "python",
   "nbconvert_exporter": "python",
   "pygments_lexer": "ipython3",
   "version": "3.12.5"
  }
 },
 "nbformat": 4,
 "nbformat_minor": 5
}
